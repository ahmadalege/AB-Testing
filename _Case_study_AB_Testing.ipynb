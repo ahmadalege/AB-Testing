{
 "cells": [
  {
   "cell_type": "code",
   "execution_count": null,
   "metadata": {},
   "outputs": [],
   "source": [
    "import numpy as np\n",
    "import pandas as pd\n",
    "from scipy.stats import norm\n",
    "import seaborn as sns\n",
    "import matplotlib.pyplot as plt"
   ]
  },
  {
   "cell_type": "code",
   "execution_count": null,
   "metadata": {},
   "outputs": [],
   "source": [
    "#load data into a pandas df\n",
    "df = pd.read_csv('ab_test_click_data.csv')\n",
    "\n",
    "#display the first 5 rows\n",
    "df.head()"
   ]
  },
  {
   "cell_type": "code",
   "execution_count": null,
   "metadata": {},
   "outputs": [],
   "source": [
    "#getting some statstical  information\n",
    "df.describe()"
   ]
  },
  {
   "cell_type": "code",
   "execution_count": null,
   "metadata": {},
   "outputs": [],
   "source": [
    "#counting number of users in each group\n",
    "df['group'].value_counts()"
   ]
  },
  {
   "cell_type": "code",
   "execution_count": null,
   "metadata": {},
   "outputs": [],
   "source": [
    "#counting  number of clicks per group\n",
    "df.groupby('group').sum('click')"
   ]
  },
  {
   "cell_type": "markdown",
   "metadata": {},
   "source": [
    "Bar chart showing the total clicks versus no-clicks in each group that can provide a clear visual comparison of user engagement"
   ]
  },
  {
   "cell_type": "code",
   "execution_count": null,
   "metadata": {},
   "outputs": [],
   "source": [
    "#plotting the bar-chart\n",
    "plt.figure(figsize=(4,3)) \n",
    "ax = sns.countplot(x='group', hue='click', data=df)\n",
    "plt.title('Click Distribution in Experimental and Control groups')\n",
    "plt.legend(labels=['No', 'Yes'])\n",
    "\n",
    "#calculate the percentages and annotate the bars\n",
    "group_counts = df.groupby(['group']).size()\n",
    "group_click_counts = df.groupby(['group', 'click']).size().reset_index(name='count')\n",
    "\n",
    "for p in ax.patches:\n",
    "    height = p.get_height()\n",
    "    #find the group and click type for the current bar\n",
    "    group = 'exp' if p.get_x() < 0.5 else 'con'\n",
    "    click = 1 if p.get_x() % 1 > 0.5 else 0\n",
    "    total = group_counts.loc[group]\n",
    "    percentage = 100 * height / total \n",
    "    ax.text(p.get_x() + p.get_width() / 2., height + 5, f'{percentage:.1f}%', ha=\"center\")\n",
    "    \n",
    "plt.tight_layout()"
   ]
  },
  {
   "cell_type": "markdown",
   "metadata": {},
   "source": [
    "Parameters of the model from Power Analysis\n",
    "\n",
    "            β: Probability of Type II Error\n",
    "            (1-β): Power of the test\n",
    "            α: Probabilty of Type I Error, Significance Level\n",
    "            δ: Minimum Detectable Effect\n"
   ]
  },
  {
   "cell_type": "code",
   "execution_count": null,
   "metadata": {},
   "outputs": [],
   "source": [
    "alpha = 0.05  # 5%\n",
    "print(\"Alpha: Sognificance level is:\", alpha)\n",
    "\n",
    "delta = 0.1 # 10%\n",
    "print(\"Delta: minimum detectavle effect is:\", delta)"
   ]
  },
  {
   "cell_type": "code",
   "execution_count": null,
   "metadata": {},
   "outputs": [],
   "source": [
    "#Calculatimg the total number of clicks per group by summing clicks\n",
    "N_con =df[df[\"group\"] == \"con\"].count()\n",
    "N_exp = df[df[\"group\"] == \"exp\"].count()\n",
    "\n",
    "#Calculatimg the total number of clicks per group by summing 1's\n",
    "x_con = df.groupby(\"group\")[\"click\"].sum().loc[\"con\"]\n",
    "x_exp = df.groupby(\"group\")[\"click\"].sum().loc[\"exp\"]\n",
    "\n",
    "print(\"number of clicks in control group:\", x_con)\n",
    "print(\"number of clicks in experimental group:\", x_exp)"
   ]
  },
  {
   "cell_type": "markdown",
   "metadata": {},
   "source": [
    "Calculating Pooled Estimates for clicks per group"
   ]
  },
  {
   "cell_type": "code",
   "execution_count": null,
   "metadata": {},
   "outputs": [],
   "source": [
    "p_con_hat = x_con/N_con\n",
    "p_exp_hat = x_exp/N_exp\n",
    "\n",
    "print(\"click prob. in control group:\", p_con_hat) \n",
    "print(\"click prob. in experimental group:\", p_exp_hat)\n",
    "\n",
    "#Computing the estimate of pooled clicked probabilty\n",
    "p_pooled_hat = (x_con+x_exp)/(N_con+N_exp)\n",
    "print(\"pooled click probabilty:\", p_pooled_hat)"
   ]
  },
  {
   "cell_type": "markdown",
   "metadata": {},
   "source": [
    "Calculating pooled variance"
   ]
  },
  {
   "cell_type": "code",
   "execution_count": null,
   "metadata": {},
   "outputs": [],
   "source": [
    "# computinh the estimate of pooled variance\n",
    "pooled_variance = p_pooled_hat * (1-p_pooled_hat) * (1/N_con + 1/N_exp)\n",
    "print(\"p_hat_pooled: \", p_pooled_hat )\n",
    "print(\"pooled_variance is:\" ,pooled_variance)"
   ]
  },
  {
   "cell_type": "markdown",
   "metadata": {},
   "source": [
    "Calculating Standard Error and Test Statistics"
   ]
  },
  {
   "cell_type": "code",
   "execution_count": null,
   "metadata": {},
   "outputs": [],
   "source": [
    "#computing the standard error of the test \n",
    "SE = np.sqrt(pooled_variance)\n",
    "print(\"The standard error is:\", SE)\n",
    "\n",
    "#computing the test statistics of Z-test\n",
    "Test_stat = (p_con_hat -  p_exp_hat)/SE\n",
    "print(\"Test statistics for 2-sample Z_test is:\", Test_stat)\n",
    "\n",
    "#critical value of the Z-test\n",
    "Z_crit = norm.ppf(1-alpha/2)\n",
    "print(\"Z-critical value from standard Normal Distribution: \", Z_crit)"
   ]
  },
  {
   "cell_type": "markdown",
   "metadata": {},
   "source": [
    "Calculating the p_values of the Z-test\n",
    "\n",
    "- A low p-value (p <= 0.05 at 5% significance level) indicates strong evidencce against the null hypothesis, so we reject the null hypothesis.\n",
    "- A high p-value (p > 0.05) indicates weak evidence against the null hypothesis, so we fail to reject the null hypothesis"
   ]
  },
  {
   "cell_type": "code",
   "execution_count": null,
   "metadata": {},
   "outputs": [],
   "source": [
    " #calculating the p value\n",
    "p_value = 2 * norm.sf(abs(Test_stat))\n",
    "\n",
    "#function checking the statistical significance\n",
    "def is_statistical_significance(p_value, alpha):\n",
    "    \"\"\"\n",
    "    We assess whther there is statistial significance based on the p-value and alpha.\n",
    "\n",
    "    Args:\n",
    "        p_value (float): The p-value result from a statistical test\n",
    "        alpha (float, optional): The significance level threshold used to determine statistical significance. Defaults to 0.05.\n",
    "        \n",
    "    Returns:\n",
    "    -Prints the assesment of statistical significance\n",
    "    \"\"\"\n",
    "    #print the rounded p-value of the statistical significane\n",
    "    print(\"P-value of the 2-sample Z-test: \",np.round(p_value,3))\n",
    "    \n",
    "    #Determine the statistical significance\n",
    "    if p_value < alpha:\n",
    "        print(\"There is stataistical significance, indicating that the observed differences between the groups are unlikely to have occured by chance alone.\")\n",
    "    else:\n",
    "        print(\"There is no statistical significance, suggesting that the observed differences between the groups could have occured by chance. \")\n",
    " is_statistical_significance(p_value, alpha)"
   ]
  },
  {
   "cell_type": "code",
   "execution_count": null,
   "metadata": {},
   "outputs": [],
   "source": [
    "CI = [round((p_exp_hat - p_con_hat) - SE*Z_crit,3), round((p_exp_hat - p_con_hat) + SE*Z_crit,3)]\n",
    "print(\"Confidence Interval of the 2 sample Z-test is: \", CI)"
   ]
  },
  {
   "cell_type": "code",
   "execution_count": null,
   "metadata": {},
   "outputs": [],
   "source": [
    "# Parameters for the standard normal distribution\n",
    "mu = 0  # Mean\n",
    "sigma = 1  # Standard deviation\n",
    "x = np.linspace(mu - 3*sigma, mu + 3*sigma, 100)\n",
    "y = norm.pdf(x, mu, sigma)\n",
    "\n",
    "# Test statistics and critical value from previous calculation\n",
    "Test_stat = -42.71219397822086  # This value is from your A/B test results\n",
    "Z_crit = 1.959963984540054  # Z-critical value for a 5% significance level in a two-tailed test\n",
    "\n",
    "# Plotting the standard normal distribution\n",
    "plt.plot(x, y, label='Standard Normal Distribution')\n",
    "\n",
    "# Shade the rejection region for a two-tailed test\n",
    "plt.fill_between(x, y, where=(x > Z_crit) | (x < -Z_crit), color='red', alpha=0.5, label='Rejection Region')\n",
    "\n",
    "# Adding Test Statistic\n",
    "plt.axvline(Test_stat, color='green', linestyle='dashed', linewidth=2, label=f'Test Statistic = {Test_stat:.2f}')\n",
    "\n",
    "# Adding Z-critical values\n",
    "plt.axvline(Z_crit, color='blue', linestyle='dashed', linewidth=1, label=f'Z-critical = {Z_crit:.2f}')\n",
    "plt.axvline(-Z_crit, color='blue', linestyle='dashed', linewidth=1)\n",
    "\n",
    "# Adding labels and title\n",
    "plt.xlabel('Z-value')\n",
    "plt.ylabel('Probability Density')\n",
    "plt.title('Gaussian Distribution with Rejection Region \\n (A/B Testing for LunarTech CTA button)')\n",
    "plt.legend()"
   ]
  },
  {
   "cell_type": "markdown",
   "metadata": {},
   "source": [
    "Testing for practical Significance in A/B testing"
   ]
  },
  {
   "cell_type": "code",
   "execution_count": null,
   "metadata": {},
   "outputs": [],
   "source": [
    "def is_practically_significant(delta, CI_95):\n",
    "    \"\"\"We assess here if the differnce betweeen Control and Experimental group is significant using the Minimum Detectable Effect (MDE)\n",
    "\n",
    "    Args:\n",
    "        delta (float): The MDE \n",
    "        CI_95 (tuple): A tuple represnting thr lower and upper bounds of the 95% confidence interval.\n",
    "        \n",
    "    Returns:\n",
    "        Prints whether the experiment has practical significance based on the MDE and CI\n",
    "    \"\"\"\n",
    "    \n",
    "    #extract lower bound of 95% CI\n",
    "    lower_bound_CI = CI_95[0]\n",
    "    \n",
    "    #check if the lower bound is greater than or equal to delta\n",
    "    if delta >= lower_bound_CI: \n",
    "        print(f\"We have practical significance! \\nWith MDE of {delta}, The difference between Control and Experimental Group is practically significant\")\n",
    "        return True\n",
    "    else:\n",
    "        print(\"We dont have practical significance! \\nThe fiffernce between Control and Experimental Group is not practically significant\")\n",
    "        return False\n",
    "    \n",
    "\n",
    "delta = 0.05\n",
    "CI_95 = (0.04, 0.06)    \n",
    "\n",
    "#call the function\n",
    "signifcance = is_practically_significant(delta, CI_95)\n",
    "print(\"Lower bound of 95% confidence interval is:\", CI_95[0])"
   ]
  },
  {
   "cell_type": "markdown",
   "metadata": {},
   "source": [
    "There exists statistically significant difference in CTR in Experimental version (Enroll Now Button) vs Control version (Secure Free Trial button) of the product at 5% significance level.\n",
    "\n",
    "There exists statistically significant difference in CTR in Experimental version (Enroll Now Button) vs Control version (Secure Free Trial button) of the product at 10% MDE.\n"
   ]
  },
  {
   "cell_type": "code",
   "execution_count": null,
   "metadata": {},
   "outputs": [],
   "source": []
  }
 ],
 "metadata": {
  "kernelspec": {
   "display_name": "base",
   "language": "python",
   "name": "python3"
  },
  "language_info": {
   "codemirror_mode": {
    "name": "ipython",
    "version": 3
   },
   "file_extension": ".py",
   "mimetype": "text/x-python",
   "name": "python",
   "nbconvert_exporter": "python",
   "pygments_lexer": "ipython3",
   "version": "3.11.5"
  }
 },
 "nbformat": 4,
 "nbformat_minor": 2
}
